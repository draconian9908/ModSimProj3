{
 "cells": [
  {
   "cell_type": "markdown",
   "metadata": {},
   "source": [
    "# Flying Mantines\n",
    "\n",
    "ModSim Project 3\n",
    "\n",
    "Lydia Hodges and Chase Joyner\n",
    "\n",
    "License: [Creative Commons Attribution 4.0 International](https://creativecommons.org/licenses/by/4.0)"
   ]
  },
  {
   "cell_type": "code",
   "execution_count": 1,
   "metadata": {
    "collapsed": true
   },
   "outputs": [],
   "source": [
    "%matplotlib notebook\n",
    "\n",
    "from modsim import *"
   ]
  },
  {
   "cell_type": "code",
   "execution_count": 4,
   "metadata": {
    "collapsed": true
   },
   "outputs": [],
   "source": [
    "m = UNITS.meter\n",
    "s = UNITS.second\n",
    "kg = UNITS.kilogram\n",
    "degree = UNITS.degree\n",
    "radian = UNITS.radian"
   ]
  },
  {
   "cell_type": "code",
   "execution_count": 5,
   "metadata": {},
   "outputs": [],
   "source": [
    "condition = Condition(x = 0 * m, \n",
    "                      y = 1 * m,\n",
    "                      g = 9.8 * m/s**2,\n",
    "                      mass = 1350 * kg,\n",
    "                      diameter = 6 * m,\n",
    "                      rho = 1.2 * kg/m**3,\n",
    "                      den = 1000 * kg/m**3,\n",
    "                      C_d = 0.09,\n",
    "                      angle = 60 * degree,\n",
    "                      velocity = 6.7 * m / s,\n",
    "                      duration = 5.1 * s)"
   ]
  },
  {
   "cell_type": "code",
   "execution_count": 7,
   "metadata": {
    "collapsed": true
   },
   "outputs": [],
   "source": [
    "def make_system(condition):\n",
    "    \n",
    "    unpack(condition)\n",
    "    \n",
    "    # convert angle to degrees\n",
    "    theta = np.deg2rad(angle)\n",
    "    \n",
    "    # compute x and y components of velocity\n",
    "    vx, vy = pol2cart(theta, velocity)\n",
    "    \n",
    "    # make the initial state\n",
    "    init = State(x=x, y=y, vx=vx, vy=vy)\n",
    "    \n",
    "    # compute area from diameter\n",
    "    area = np.pi * (diameter/2)**2\n",
    "    \n",
    "    # compute timestamps\n",
    "    ts = linspace(0, duration, 101)\n",
    "    \n",
    "    return System(init=init, g=g, mass=mass, \n",
    "                  area=area, rho=rho, C_d=C_d, ts=ts)"
   ]
  },
  {
   "cell_type": "code",
   "execution_count": 8,
   "metadata": {},
   "outputs": [],
   "source": [
    "system = make_system(condition)"
   ]
  },
  {
   "cell_type": "code",
   "execution_count": 9,
   "metadata": {
    "collapsed": true
   },
   "outputs": [],
   "source": [
    "def slope_func(state, t, system):\n",
    "    \n",
    "    x, y, vx, vy = state\n",
    "    unpack(system)\n",
    "    \n",
    "    a_grav = Vector(0, -g)\n",
    "\n",
    "    v = Vector(vx, vy)\n",
    "    \n",
    "    f_drag_a = -rho * v.mag * v * C_d * area / 2\n",
    "    a_drag_a = f_drag_a / mass\n",
    "    \n",
    "    f_drag_w = -den * v.mag * v * C_d * area / 2\n",
    "    \n",
    "    a = a_grav + a_drag\n",
    "    \n",
    "    return vx, vy, a.x, a.y"
   ]
  },
  {
   "cell_type": "code",
   "execution_count": null,
   "metadata": {
    "collapsed": true
   },
   "outputs": [],
   "source": []
  }
 ],
 "metadata": {
  "kernelspec": {
   "display_name": "Python 3",
   "language": "python",
   "name": "python3"
  },
  "language_info": {
   "codemirror_mode": {
    "name": "ipython",
    "version": 3
   },
   "file_extension": ".py",
   "mimetype": "text/x-python",
   "name": "python",
   "nbconvert_exporter": "python",
   "pygments_lexer": "ipython3",
   "version": "3.6.1"
  }
 },
 "nbformat": 4,
 "nbformat_minor": 2
}
